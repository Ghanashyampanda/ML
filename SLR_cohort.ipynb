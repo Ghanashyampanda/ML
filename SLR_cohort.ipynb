{
 "cells": [
  {
   "cell_type": "markdown",
   "id": "f669fed3",
   "metadata": {},
   "source": [
    "### We have data on Salary and years of Experience of a group of employees of an organization. We will build a predictive model which will predict the salary of an employee once we feed in the years of experience for a new employee."
   ]
  },
  {
   "cell_type": "markdown",
   "id": "46595bae",
   "metadata": {},
   "source": [
    "##### Basic assumptions of Classical Linear Regression Models:\n",
    "\n",
    "* A linear relationship between the dependent and Independent variable\n",
    "* The Independent variables should not have mutual correlation among each other\n",
    "* Error terms should be uncorrelated and follow a normal distribution"
   ]
  },
  {
   "cell_type": "code",
   "execution_count": null,
   "id": "e85efbc1",
   "metadata": {},
   "outputs": [],
   "source": []
  }
 ],
 "metadata": {
  "kernelspec": {
   "display_name": "Python 3 (ipykernel)",
   "language": "python",
   "name": "python3"
  },
  "language_info": {
   "codemirror_mode": {
    "name": "ipython",
    "version": 3
   },
   "file_extension": ".py",
   "mimetype": "text/x-python",
   "name": "python",
   "nbconvert_exporter": "python",
   "pygments_lexer": "ipython3",
   "version": "3.11.4"
  }
 },
 "nbformat": 4,
 "nbformat_minor": 5
}
